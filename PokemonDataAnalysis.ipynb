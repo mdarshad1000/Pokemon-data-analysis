{
 "cells": [
  {
   "cell_type": "markdown",
   "id": "c17c5e3f",
   "metadata": {},
   "source": [
    "# Pokemon Data Analysis"
   ]
  },
  {
   "cell_type": "markdown",
   "id": "cc09726e",
   "metadata": {},
   "source": [
    "#### Importing the required Libraries"
   ]
  },
  {
   "cell_type": "code",
   "execution_count": 1,
   "id": "ff586eae",
   "metadata": {},
   "outputs": [],
   "source": [
    "import pandas as pd\n",
    "import numpy as np\n",
    "import matplotlib.pyplot as plt\n",
    "import seaborn as sns"
   ]
  },
  {
   "cell_type": "code",
   "execution_count": 2,
   "id": "6165bb3c",
   "metadata": {},
   "outputs": [],
   "source": [
    "df = pd.read_csv('pokemon_data.csv')"
   ]
  },
  {
   "cell_type": "code",
   "execution_count": 3,
   "id": "0a4e766d",
   "metadata": {},
   "outputs": [
    {
     "data": {
      "text/html": [
       "<div>\n",
       "<style scoped>\n",
       "    .dataframe tbody tr th:only-of-type {\n",
       "        vertical-align: middle;\n",
       "    }\n",
       "\n",
       "    .dataframe tbody tr th {\n",
       "        vertical-align: top;\n",
       "    }\n",
       "\n",
       "    .dataframe thead th {\n",
       "        text-align: right;\n",
       "    }\n",
       "</style>\n",
       "<table border=\"1\" class=\"dataframe\">\n",
       "  <thead>\n",
       "    <tr style=\"text-align: right;\">\n",
       "      <th></th>\n",
       "      <th>#</th>\n",
       "      <th>Name</th>\n",
       "      <th>Type 1</th>\n",
       "      <th>Type 2</th>\n",
       "      <th>HP</th>\n",
       "      <th>Attack</th>\n",
       "      <th>Defense</th>\n",
       "      <th>Sp. Atk</th>\n",
       "      <th>Sp. Def</th>\n",
       "      <th>Speed</th>\n",
       "      <th>Generation</th>\n",
       "      <th>Legendary</th>\n",
       "    </tr>\n",
       "  </thead>\n",
       "  <tbody>\n",
       "    <tr>\n",
       "      <th>0</th>\n",
       "      <td>1</td>\n",
       "      <td>Bulbasaur</td>\n",
       "      <td>Grass</td>\n",
       "      <td>Poison</td>\n",
       "      <td>45</td>\n",
       "      <td>49</td>\n",
       "      <td>49</td>\n",
       "      <td>65</td>\n",
       "      <td>65</td>\n",
       "      <td>45</td>\n",
       "      <td>1</td>\n",
       "      <td>False</td>\n",
       "    </tr>\n",
       "    <tr>\n",
       "      <th>1</th>\n",
       "      <td>2</td>\n",
       "      <td>Ivysaur</td>\n",
       "      <td>Grass</td>\n",
       "      <td>Poison</td>\n",
       "      <td>60</td>\n",
       "      <td>62</td>\n",
       "      <td>63</td>\n",
       "      <td>80</td>\n",
       "      <td>80</td>\n",
       "      <td>60</td>\n",
       "      <td>1</td>\n",
       "      <td>False</td>\n",
       "    </tr>\n",
       "    <tr>\n",
       "      <th>2</th>\n",
       "      <td>3</td>\n",
       "      <td>Venusaur</td>\n",
       "      <td>Grass</td>\n",
       "      <td>Poison</td>\n",
       "      <td>80</td>\n",
       "      <td>82</td>\n",
       "      <td>83</td>\n",
       "      <td>100</td>\n",
       "      <td>100</td>\n",
       "      <td>80</td>\n",
       "      <td>1</td>\n",
       "      <td>False</td>\n",
       "    </tr>\n",
       "    <tr>\n",
       "      <th>3</th>\n",
       "      <td>3</td>\n",
       "      <td>VenusaurMega Venusaur</td>\n",
       "      <td>Grass</td>\n",
       "      <td>Poison</td>\n",
       "      <td>80</td>\n",
       "      <td>100</td>\n",
       "      <td>123</td>\n",
       "      <td>122</td>\n",
       "      <td>120</td>\n",
       "      <td>80</td>\n",
       "      <td>1</td>\n",
       "      <td>False</td>\n",
       "    </tr>\n",
       "    <tr>\n",
       "      <th>4</th>\n",
       "      <td>4</td>\n",
       "      <td>Charmander</td>\n",
       "      <td>Fire</td>\n",
       "      <td>NaN</td>\n",
       "      <td>39</td>\n",
       "      <td>52</td>\n",
       "      <td>43</td>\n",
       "      <td>60</td>\n",
       "      <td>50</td>\n",
       "      <td>65</td>\n",
       "      <td>1</td>\n",
       "      <td>False</td>\n",
       "    </tr>\n",
       "  </tbody>\n",
       "</table>\n",
       "</div>"
      ],
      "text/plain": [
       "   #                   Name Type 1  Type 2  HP  Attack  Defense  Sp. Atk  \\\n",
       "0  1              Bulbasaur  Grass  Poison  45      49       49       65   \n",
       "1  2                Ivysaur  Grass  Poison  60      62       63       80   \n",
       "2  3               Venusaur  Grass  Poison  80      82       83      100   \n",
       "3  3  VenusaurMega Venusaur  Grass  Poison  80     100      123      122   \n",
       "4  4             Charmander   Fire     NaN  39      52       43       60   \n",
       "\n",
       "   Sp. Def  Speed  Generation  Legendary  \n",
       "0       65     45           1      False  \n",
       "1       80     60           1      False  \n",
       "2      100     80           1      False  \n",
       "3      120     80           1      False  \n",
       "4       50     65           1      False  "
      ]
     },
     "execution_count": 3,
     "metadata": {},
     "output_type": "execute_result"
    }
   ],
   "source": [
    "df.head()"
   ]
  },
  {
   "cell_type": "code",
   "execution_count": 4,
   "id": "016662ce",
   "metadata": {},
   "outputs": [
    {
     "data": {
      "text/html": [
       "<div>\n",
       "<style scoped>\n",
       "    .dataframe tbody tr th:only-of-type {\n",
       "        vertical-align: middle;\n",
       "    }\n",
       "\n",
       "    .dataframe tbody tr th {\n",
       "        vertical-align: top;\n",
       "    }\n",
       "\n",
       "    .dataframe thead th {\n",
       "        text-align: right;\n",
       "    }\n",
       "</style>\n",
       "<table border=\"1\" class=\"dataframe\">\n",
       "  <thead>\n",
       "    <tr style=\"text-align: right;\">\n",
       "      <th></th>\n",
       "      <th>#</th>\n",
       "      <th>Name</th>\n",
       "      <th>Type 1</th>\n",
       "      <th>Type 2</th>\n",
       "      <th>HP</th>\n",
       "      <th>Attack</th>\n",
       "      <th>Defense</th>\n",
       "      <th>Sp. Atk</th>\n",
       "      <th>Sp. Def</th>\n",
       "      <th>Speed</th>\n",
       "      <th>Generation</th>\n",
       "      <th>Legendary</th>\n",
       "    </tr>\n",
       "  </thead>\n",
       "  <tbody>\n",
       "    <tr>\n",
       "      <th>795</th>\n",
       "      <td>719</td>\n",
       "      <td>Diancie</td>\n",
       "      <td>Rock</td>\n",
       "      <td>Fairy</td>\n",
       "      <td>50</td>\n",
       "      <td>100</td>\n",
       "      <td>150</td>\n",
       "      <td>100</td>\n",
       "      <td>150</td>\n",
       "      <td>50</td>\n",
       "      <td>6</td>\n",
       "      <td>True</td>\n",
       "    </tr>\n",
       "    <tr>\n",
       "      <th>796</th>\n",
       "      <td>719</td>\n",
       "      <td>DiancieMega Diancie</td>\n",
       "      <td>Rock</td>\n",
       "      <td>Fairy</td>\n",
       "      <td>50</td>\n",
       "      <td>160</td>\n",
       "      <td>110</td>\n",
       "      <td>160</td>\n",
       "      <td>110</td>\n",
       "      <td>110</td>\n",
       "      <td>6</td>\n",
       "      <td>True</td>\n",
       "    </tr>\n",
       "    <tr>\n",
       "      <th>797</th>\n",
       "      <td>720</td>\n",
       "      <td>HoopaHoopa Confined</td>\n",
       "      <td>Psychic</td>\n",
       "      <td>Ghost</td>\n",
       "      <td>80</td>\n",
       "      <td>110</td>\n",
       "      <td>60</td>\n",
       "      <td>150</td>\n",
       "      <td>130</td>\n",
       "      <td>70</td>\n",
       "      <td>6</td>\n",
       "      <td>True</td>\n",
       "    </tr>\n",
       "    <tr>\n",
       "      <th>798</th>\n",
       "      <td>720</td>\n",
       "      <td>HoopaHoopa Unbound</td>\n",
       "      <td>Psychic</td>\n",
       "      <td>Dark</td>\n",
       "      <td>80</td>\n",
       "      <td>160</td>\n",
       "      <td>60</td>\n",
       "      <td>170</td>\n",
       "      <td>130</td>\n",
       "      <td>80</td>\n",
       "      <td>6</td>\n",
       "      <td>True</td>\n",
       "    </tr>\n",
       "    <tr>\n",
       "      <th>799</th>\n",
       "      <td>721</td>\n",
       "      <td>Volcanion</td>\n",
       "      <td>Fire</td>\n",
       "      <td>Water</td>\n",
       "      <td>80</td>\n",
       "      <td>110</td>\n",
       "      <td>120</td>\n",
       "      <td>130</td>\n",
       "      <td>90</td>\n",
       "      <td>70</td>\n",
       "      <td>6</td>\n",
       "      <td>True</td>\n",
       "    </tr>\n",
       "  </tbody>\n",
       "</table>\n",
       "</div>"
      ],
      "text/plain": [
       "       #                 Name   Type 1 Type 2  HP  Attack  Defense  Sp. Atk  \\\n",
       "795  719              Diancie     Rock  Fairy  50     100      150      100   \n",
       "796  719  DiancieMega Diancie     Rock  Fairy  50     160      110      160   \n",
       "797  720  HoopaHoopa Confined  Psychic  Ghost  80     110       60      150   \n",
       "798  720   HoopaHoopa Unbound  Psychic   Dark  80     160       60      170   \n",
       "799  721            Volcanion     Fire  Water  80     110      120      130   \n",
       "\n",
       "     Sp. Def  Speed  Generation  Legendary  \n",
       "795      150     50           6       True  \n",
       "796      110    110           6       True  \n",
       "797      130     70           6       True  \n",
       "798      130     80           6       True  \n",
       "799       90     70           6       True  "
      ]
     },
     "execution_count": 4,
     "metadata": {},
     "output_type": "execute_result"
    }
   ],
   "source": [
    "df.tail()"
   ]
  },
  {
   "cell_type": "code",
   "execution_count": 5,
   "id": "c32cce32",
   "metadata": {},
   "outputs": [
    {
     "data": {
      "text/plain": [
       "Index(['#', 'Name', 'Type 1', 'Type 2', 'HP', 'Attack', 'Defense', 'Sp. Atk',\n",
       "       'Sp. Def', 'Speed', 'Generation', 'Legendary'],\n",
       "      dtype='object')"
      ]
     },
     "execution_count": 5,
     "metadata": {},
     "output_type": "execute_result"
    }
   ],
   "source": [
    "df.columns"
   ]
  },
  {
   "cell_type": "markdown",
   "id": "530cede2",
   "metadata": {},
   "source": [
    "##### We will analyze the dataset for different attributes"
   ]
  },
  {
   "cell_type": "markdown",
   "id": "c384738a",
   "metadata": {},
   "source": [
    "1. TO ANALYZE HOW MANY GENERATIONS OF POEKMON ARE THERE ACCORDING TO THE DATASET"
   ]
  },
  {
   "cell_type": "code",
   "execution_count": 6,
   "id": "48a46a1e",
   "metadata": {},
   "outputs": [
    {
     "name": "stdout",
     "output_type": "stream",
     "text": [
      "{1, 2, 3, 4, 5, 6}\n"
     ]
    }
   ],
   "source": [
    "print(set(df['Generation']))"
   ]
  },
  {
   "cell_type": "markdown",
   "id": "d123f4a2",
   "metadata": {},
   "source": [
    "2. TO ANALYZE THE NO. OF POKEMONS IN EACH GENERATION"
   ]
  },
  {
   "cell_type": "code",
   "execution_count": 7,
   "id": "f74a5fed",
   "metadata": {},
   "outputs": [
    {
     "data": {
      "text/plain": [
       "{1: 166, 2: 106, 3: 160, 4: 121, 5: 165, 6: 82}"
      ]
     },
     "execution_count": 7,
     "metadata": {},
     "output_type": "execute_result"
    }
   ],
   "source": [
    "poke_count = {}\n",
    "count = 1\n",
    "for item in df['Generation']:\n",
    "    if item not in poke_count.keys():\n",
    "        poke_count.update({item:count})\n",
    "    else:\n",
    "        poke_count[item] += 1\n",
    "poke_count"
   ]
  },
  {
   "cell_type": "code",
   "execution_count": 8,
   "id": "9ec55c9a",
   "metadata": {},
   "outputs": [
    {
     "name": "stderr",
     "output_type": "stream",
     "text": [
      "E:\\Anaconda\\lib\\site-packages\\seaborn\\_decorators.py:36: FutureWarning: Pass the following variables as keyword args: x, y. From version 0.12, the only valid positional argument will be `data`, and passing other arguments without an explicit keyword will result in an error or misinterpretation.\n",
      "  warnings.warn(\n"
     ]
    },
    {
     "data": {
      "image/png": "[encoded data removed]",
      "text/plain": [
       "<Figure size 432x288 with 1 Axes>"
      ]
     },
     "metadata": {
      "needs_background": "light"
     },
     "output_type": "display_data"
    }
   ],
   "source": [
    "# Visualizing the generations\n",
    "gen_key = list(poke_count.keys())\n",
    "gen_value = list(poke_count.values())\n",
    "sns.barplot(gen_key, gen_value)\n",
    "plt.xlabel('Generation of Pokemon')\n",
    "plt.ylabel('No. of Pokemon')\n",
    "plt.show()"
   ]
  },
  {
   "cell_type": "markdown",
   "id": "c1409bd6",
   "metadata": {},
   "source": [
    "3. TO FIND DIFFERENT TYPES OF POEKMON ACCORDING TO 'TYPE 1'"
   ]
  },
  {
   "cell_type": "code",
   "execution_count": 9,
   "id": "050fb616",
   "metadata": {},
   "outputs": [
    {
     "name": "stdout",
     "output_type": "stream",
     "text": [
      "{'Bug', 'Fire', 'Dark', 'Rock', 'Ground', 'Steel', 'Ice', 'Flying', 'Normal', 'Poison', 'Psychic', 'Ghost', 'Fighting', 'Dragon', 'Fairy', 'Grass', 'Electric', 'Water'}\n",
      "\n",
      "There are 18 types of Pokemon\n"
     ]
    }
   ],
   "source": [
    "Types = set(df['Type 1'])\n",
    "print(Types)\n",
    "print(f\"\\nThere are {len(Types)} types of Pokemon\")"
   ]
  },
  {
   "cell_type": "markdown",
   "id": "8ac80897",
   "metadata": {},
   "source": [
    "4. TO FIND TOTAL NO. OF POKEMON OF EACH TYPE"
   ]
  },
  {
   "cell_type": "code",
   "execution_count": 10,
   "id": "992924d3",
   "metadata": {},
   "outputs": [
    {
     "name": "stdout",
     "output_type": "stream",
     "text": [
      "{'Grass': 70, 'Fire': 52, 'Water': 112, 'Bug': 69, 'Normal': 98, 'Poison': 28, 'Electric': 44, 'Ground': 32, 'Fairy': 17, 'Fighting': 27, 'Psychic': 57, 'Rock': 44, 'Ghost': 32, 'Ice': 24, 'Dragon': 32, 'Dark': 31, 'Steel': 27, 'Flying': 4}\n"
     ]
    }
   ],
   "source": [
    "type_count = {}\n",
    "count = 1\n",
    "for item in df['Type 1']:\n",
    "    if item not in type_count.keys():\n",
    "        type_count.update({item:count})\n",
    "    else:\n",
    "        type_count[item] += 1\n",
    "print(type_count)"
   ]
  },
  {
   "cell_type": "code",
   "execution_count": 11,
   "id": "35e53468",
   "metadata": {},
   "outputs": [
    {
     "name": "stderr",
     "output_type": "stream",
     "text": [
      "E:\\Anaconda\\lib\\site-packages\\seaborn\\_decorators.py:36: FutureWarning: Pass the following variables as keyword args: x, y. From version 0.12, the only valid positional argument will be `data`, and passing other arguments without an explicit keyword will result in an error or misinterpretation.\n",
      "  warnings.warn(\n"
     ]
    },
    {
     "data": {
      "image/png": "[encoded data removed]",
      "text/plain": [
       "<Figure size 432x288 with 1 Axes>"
      ]
     },
     "metadata": {
      "needs_background": "light"
     },
     "output_type": "display_data"
    }
   ],
   "source": [
    "type_key = list(type_count.keys())\n",
    "type_value = list(type_count.values())\n",
    "sns.barplot(type_key, type_value)\n",
    "plt.xlabel('Types of Pokemon')\n",
    "plt.ylabel('No. of Pokemon')\n",
    "plt.xticks(rotation=70)\n",
    "plt.show()"
   ]
  },
  {
   "cell_type": "markdown",
   "id": "2f96d696",
   "metadata": {},
   "source": [
    "5. TO FIND THE TOTAL PROWESS OF EACH POKEMON AND THEN FIND THE STRONGEST AND WEAKEST POKEMON"
   ]
  },
  {
   "cell_type": "code",
   "execution_count": 12,
   "id": "d1adad82",
   "metadata": {},
   "outputs": [],
   "source": [
    "# Calculating the Total power of each Pokemon\n",
    "df['Total'] = df['HP'] + df['Attack'] + df['Defense'] + df['Sp. Atk'] + df['Sp. Def'] + df['Speed']"
   ]
  },
  {
   "cell_type": "code",
   "execution_count": 13,
   "id": "3f802d7d",
   "metadata": {},
   "outputs": [
    {
     "name": "stdout",
     "output_type": "stream",
     "text": [
      "The strongest Pokemon is RayquazaMega Rayquaza\n",
      "The weakest Pokemon is Sunkern\n"
     ]
    }
   ],
   "source": [
    "# Sorting the data frame in the decreasing value of Total\n",
    "res = df.sort_values(['Total'], ascending=False)\n",
    "\n",
    "# To get the name of strongest pokemon\n",
    "strongest = res.iloc[0,1]\n",
    "\n",
    "# To get the name of weakest Pokemon\n",
    "weakest = res.iloc[-1,1] \n",
    "\n",
    "print(f\"The strongest Pokemon is {strongest}\")\n",
    "print(f\"The weakest Pokemon is {weakest}\")"
   ]
  },
  {
   "cell_type": "code",
   "execution_count": 14,
   "id": "11fde60c",
   "metadata": {},
   "outputs": [
    {
     "name": "stdout",
     "output_type": "stream",
     "text": [
      "Pokemon with the highest total is: RayquazaMega Rayquaza\n",
      "Pokemon with the lowest total is: Sunkern\n"
     ]
    }
   ],
   "source": [
    "# 2nd approach of getting the strongest and the weakest Pokemon is:\n",
    "max_total = max(df['Total'])\n",
    "min_total = min(df['Total'])\n",
    "for index, row in df.iterrows():\n",
    "    if row['Total'] == max_total:\n",
    "        max_name = row['Name']\n",
    "    elif row['Total'] == min_total:\n",
    "        min_name = row['Name']\n",
    "        \n",
    "print('Pokemon with the highest total is:',max_name)\n",
    "print('Pokemon with the lowest total is:',min_name)"
   ]
  },
  {
   "cell_type": "code",
   "execution_count": 54,
   "id": "235132fd",
   "metadata": {},
   "outputs": [
    {
     "data": {
      "text/plain": [
       "0      318\n",
       "1      405\n",
       "2      525\n",
       "3      625\n",
       "4      309\n",
       "      ... \n",
       "795    600\n",
       "796    700\n",
       "797    600\n",
       "798    680\n",
       "799    600\n",
       "Name: Total, Length: 800, dtype: int64"
      ]
     },
     "execution_count": 54,
     "metadata": {},
     "output_type": "execute_result"
    }
   ],
   "source": []
  },
  {
   "cell_type": "markdown",
   "id": "e70701ea",
   "metadata": {},
   "source": [
    "6. TO GET THE HIGHEST RATING ATTACK, SPEED, DEFNESE, HP ETC."
   ]
  },
  {
   "cell_type": "code",
   "execution_count": 70,
   "id": "9dc45e36",
   "metadata": {},
   "outputs": [],
   "source": [
    "cols = list(df.columns)\n",
    "stats = cols[4:10]"
   ]
  },
  {
   "cell_type": "code",
   "execution_count": 16,
   "id": "809cef34",
   "metadata": {},
   "outputs": [
    {
     "name": "stdout",
     "output_type": "stream",
     "text": [
      "Dictionary of max stats:  {'HP': 255, 'Attack': 190, 'Defense': 230, 'Sp. Atk': 194, 'Sp. Def': 230, 'Speed': 180}\n",
      "Dictionary of min stats:  {'HP': 1, 'Attack': 5, 'Defense': 5, 'Sp. Atk': 10, 'Sp. Def': 20, 'Speed': 5}\n"
     ]
    }
   ],
   "source": [
    "max_of_stats = {}\n",
    "min_of_stats = {}\n",
    "for item in stats:\n",
    "    max_of_stats.update({item:max(df[item])})\n",
    "    min_of_stats.update({item:min(df[item])})    \n",
    "    \n",
    "print(\"Dictionary of max stats: \", max_of_stats)\n",
    "print(\"Dictionary of min stats: \", min_of_stats)\n",
    "    "
   ]
  },
  {
   "cell_type": "markdown",
   "id": "15e33e75",
   "metadata": {},
   "source": [
    "7. TO GET THE POKEMONS WITH HIGHEST DIFFERENT ATTRIBUTES"
   ]
  },
  {
   "cell_type": "code",
   "execution_count": 17,
   "id": "782a7747",
   "metadata": {},
   "outputs": [
    {
     "name": "stdout",
     "output_type": "stream",
     "text": [
      "Blissey has maximum HP that is 255\n",
      "\n",
      "MewtwoMega Mewtwo X has maximum Attack that is 190\n",
      "\n",
      "Shuckle has maximum Defense that is 230\n",
      "\n",
      "MewtwoMega Mewtwo Y has maximum Sp. Atk that is 194\n",
      "\n",
      "Shuckle has maximum Sp. Def that is 230\n",
      "\n",
      "DeoxysSpeed Forme has maximum Speed that is 180\n",
      "\n"
     ]
    }
   ],
   "source": [
    "for item in stats:\n",
    "    mid = df.sort_values(item, ascending=False)\n",
    "    print(f\"{mid.iloc[0,1]} has maximum {item} that is {max(df[item])}\\n\")"
   ]
  },
  {
   "cell_type": "markdown",
   "id": "5d6d2944",
   "metadata": {},
   "source": [
    "8. TO GET THE STRONG POKEMONS i.e WHO HAVE TOTAL > 600"
   ]
  },
  {
   "cell_type": "code",
   "execution_count": 36,
   "id": "e7ff2285",
   "metadata": {},
   "outputs": [
    {
     "name": "stdout",
     "output_type": "stream",
     "text": [
      "There are total 48 strong pokemons.\n"
     ]
    }
   ],
   "source": [
    "strong_poke=[]\n",
    "for index, item in df.iterrows():\n",
    "    if item['Total'] > 600:\n",
    "        strong_poke.append(item['Name'])\n",
    "print('There are total', len(strong_poke), \"strong pokemons.\")"
   ]
  },
  {
   "cell_type": "code",
   "execution_count": 41,
   "id": "211d9119",
   "metadata": {},
   "outputs": [
    {
     "data": {
      "text/plain": [
       "['Bug',\n",
       " 'Fire',\n",
       " 'Dark',\n",
       " 'Rock',\n",
       " 'Ground',\n",
       " 'Steel',\n",
       " 'Ice',\n",
       " 'Flying',\n",
       " 'Normal',\n",
       " 'Poison',\n",
       " 'Psychic',\n",
       " 'Ghost',\n",
       " 'Fighting',\n",
       " 'Dragon',\n",
       " 'Fairy',\n",
       " 'Grass',\n",
       " 'Electric',\n",
       " 'Water']"
      ]
     },
     "execution_count": 41,
     "metadata": {},
     "output_type": "execute_result"
    }
   ],
   "source": [
    "list(Types)"
   ]
  },
  {
   "cell_type": "markdown",
   "id": "91c42f61",
   "metadata": {},
   "source": [
    "9. TO GET THE STRONGEST POKEMON IN EACH TYPE"
   ]
  },
  {
   "cell_type": "code",
   "execution_count": 58,
   "id": "271c6292",
   "metadata": {},
   "outputs": [
    {
     "data": {
      "text/plain": [
       "{'Bug': 'PinsirMega Pinsir',\n",
       " 'Fire': 'Ho-oh',\n",
       " 'Dark': 'Yveltal',\n",
       " 'Rock': 'TyranitarMega Tyranitar',\n",
       " 'Ground': 'GroudonPrimal Groudon',\n",
       " 'Steel': 'MetagrossMega Metagross',\n",
       " 'Ice': 'Articuno',\n",
       " 'Flying': 'TornadusIncarnate Forme',\n",
       " 'Normal': 'Arceus',\n",
       " 'Poison': 'Crobat',\n",
       " 'Psychic': 'MewtwoMega Mewtwo X',\n",
       " 'Ghost': 'GiratinaAltered Forme',\n",
       " 'Fighting': 'LucarioMega Lucario',\n",
       " 'Dragon': 'RayquazaMega Rayquaza',\n",
       " 'Fairy': 'Xerneas',\n",
       " 'Grass': 'SceptileMega Sceptile',\n",
       " 'Electric': 'AmpharosMega Ampharos',\n",
       " 'Water': 'KyogrePrimal Kyogre'}"
      ]
     },
     "execution_count": 58,
     "metadata": {},
     "output_type": "execute_result"
    }
   ],
   "source": [
    "strong_poke_acc_type = {}\n",
    "for item in Types:\n",
    "    a,b = [], []\n",
    "    for index, rows in df.iterrows():\n",
    "        if rows['Type 1'] == item:\n",
    "            a.append(rows['Total'])\n",
    "            b.append(rows['Name'])\n",
    "    index_value = a.index(max(a))\n",
    "    strong_poke_name = b[index_value]\n",
    "    strong_poke_acc_type.update({item:strong_poke_name})\n",
    "strong_poke_acc_type"
   ]
  },
  {
   "cell_type": "markdown",
   "id": "5fc0cfd8",
   "metadata": {},
   "source": [
    "10. FINDING THE STRONGEST POKEMON ON THE BASIS OF HP, ATTACK etc. IN EACH TYPE"
   ]
  },
  {
   "cell_type": "code",
   "execution_count": 80,
   "id": "d3e20330",
   "metadata": {},
   "outputs": [
    {
     "name": "stdout",
     "output_type": "stream",
     "text": [
      "On the basis of HP\n",
      "{'Bug': 'PinsirMega Pinsir', 'Fire': 'Ho-oh', 'Dark': 'Yveltal', 'Rock': 'TyranitarMega Tyranitar', 'Ground': 'GroudonPrimal Groudon', 'Steel': 'MetagrossMega Metagross', 'Ice': 'Articuno', 'Flying': 'TornadusIncarnate Forme', 'Normal': 'Arceus', 'Poison': 'Crobat', 'Psychic': 'MewtwoMega Mewtwo X', 'Ghost': 'GiratinaAltered Forme', 'Fighting': 'LucarioMega Lucario', 'Dragon': 'RayquazaMega Rayquaza', 'Fairy': 'Xerneas', 'Grass': 'SceptileMega Sceptile', 'Electric': 'AmpharosMega Ampharos', 'Water': 'KyogrePrimal Kyogre'} \n",
      "\n",
      "On the basis of Attack\n",
      "{'Bug': 'PinsirMega Pinsir', 'Fire': 'Ho-oh', 'Dark': 'Yveltal', 'Rock': 'TyranitarMega Tyranitar', 'Ground': 'GroudonPrimal Groudon', 'Steel': 'MetagrossMega Metagross', 'Ice': 'Articuno', 'Flying': 'TornadusIncarnate Forme', 'Normal': 'Arceus', 'Poison': 'Crobat', 'Psychic': 'MewtwoMega Mewtwo X', 'Ghost': 'GiratinaAltered Forme', 'Fighting': 'LucarioMega Lucario', 'Dragon': 'RayquazaMega Rayquaza', 'Fairy': 'Xerneas', 'Grass': 'SceptileMega Sceptile', 'Electric': 'AmpharosMega Ampharos', 'Water': 'KyogrePrimal Kyogre'} \n",
      "\n",
      "On the basis of Defense\n",
      "{'Bug': 'PinsirMega Pinsir', 'Fire': 'Ho-oh', 'Dark': 'Yveltal', 'Rock': 'TyranitarMega Tyranitar', 'Ground': 'GroudonPrimal Groudon', 'Steel': 'MetagrossMega Metagross', 'Ice': 'Articuno', 'Flying': 'TornadusIncarnate Forme', 'Normal': 'Arceus', 'Poison': 'Crobat', 'Psychic': 'MewtwoMega Mewtwo X', 'Ghost': 'GiratinaAltered Forme', 'Fighting': 'LucarioMega Lucario', 'Dragon': 'RayquazaMega Rayquaza', 'Fairy': 'Xerneas', 'Grass': 'SceptileMega Sceptile', 'Electric': 'AmpharosMega Ampharos', 'Water': 'KyogrePrimal Kyogre'} \n",
      "\n",
      "On the basis of Sp. Atk\n",
      "{'Bug': 'PinsirMega Pinsir', 'Fire': 'Ho-oh', 'Dark': 'Yveltal', 'Rock': 'TyranitarMega Tyranitar', 'Ground': 'GroudonPrimal Groudon', 'Steel': 'MetagrossMega Metagross', 'Ice': 'Articuno', 'Flying': 'TornadusIncarnate Forme', 'Normal': 'Arceus', 'Poison': 'Crobat', 'Psychic': 'MewtwoMega Mewtwo X', 'Ghost': 'GiratinaAltered Forme', 'Fighting': 'LucarioMega Lucario', 'Dragon': 'RayquazaMega Rayquaza', 'Fairy': 'Xerneas', 'Grass': 'SceptileMega Sceptile', 'Electric': 'AmpharosMega Ampharos', 'Water': 'KyogrePrimal Kyogre'} \n",
      "\n",
      "On the basis of Sp. Def\n",
      "{'Bug': 'PinsirMega Pinsir', 'Fire': 'Ho-oh', 'Dark': 'Yveltal', 'Rock': 'TyranitarMega Tyranitar', 'Ground': 'GroudonPrimal Groudon', 'Steel': 'MetagrossMega Metagross', 'Ice': 'Articuno', 'Flying': 'TornadusIncarnate Forme', 'Normal': 'Arceus', 'Poison': 'Crobat', 'Psychic': 'MewtwoMega Mewtwo X', 'Ghost': 'GiratinaAltered Forme', 'Fighting': 'LucarioMega Lucario', 'Dragon': 'RayquazaMega Rayquaza', 'Fairy': 'Xerneas', 'Grass': 'SceptileMega Sceptile', 'Electric': 'AmpharosMega Ampharos', 'Water': 'KyogrePrimal Kyogre'} \n",
      "\n",
      "On the basis of Speed\n",
      "{'Bug': 'PinsirMega Pinsir', 'Fire': 'Ho-oh', 'Dark': 'Yveltal', 'Rock': 'TyranitarMega Tyranitar', 'Ground': 'GroudonPrimal Groudon', 'Steel': 'MetagrossMega Metagross', 'Ice': 'Articuno', 'Flying': 'TornadusIncarnate Forme', 'Normal': 'Arceus', 'Poison': 'Crobat', 'Psychic': 'MewtwoMega Mewtwo X', 'Ghost': 'GiratinaAltered Forme', 'Fighting': 'LucarioMega Lucario', 'Dragon': 'RayquazaMega Rayquaza', 'Fairy': 'Xerneas', 'Grass': 'SceptileMega Sceptile', 'Electric': 'AmpharosMega Ampharos', 'Water': 'KyogrePrimal Kyogre'} \n",
      "\n"
     ]
    }
   ],
   "source": [
    "strongest_poke_dict = {}\n",
    "for k in stats:\n",
    "    print(f\"On the basis of {k}\")\n",
    "    for item in Types:\n",
    "        a, b = [], []\n",
    "        for index, rows in df.iterrows():\n",
    "            if item == rows['Type 1']:\n",
    "                a.append(rows['Total'])\n",
    "                b.append(rows['Name'])\n",
    "        index_value = a.index(max(a))\n",
    "        strongest_poke = b[index_value] \n",
    "        strongest_poke_dict.update({item:strongest_poke})\n",
    "    print(strongest_poke_dict,\"\\n\")"
   ]
  }
 ],
 "metadata": {
  "kernelspec": {
   "display_name": "Python 3",
   "language": "python",
   "name": "python3"
  },
  "language_info": {
   "codemirror_mode": {
    "name": "ipython",
    "version": 3
   },
   "file_extension": ".py",
   "mimetype": "text/x-python",
   "name": "python",
   "nbconvert_exporter": "python",
   "pygments_lexer": "ipython3",
   "version": "3.8.8"
  }
 },
 "nbformat": 4,
 "nbformat_minor": 5
}
